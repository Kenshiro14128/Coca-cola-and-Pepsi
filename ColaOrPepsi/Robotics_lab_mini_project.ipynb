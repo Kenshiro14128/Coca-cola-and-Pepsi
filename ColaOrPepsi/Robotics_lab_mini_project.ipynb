{
  "cells": [
    {
      "cell_type": "code",
      "execution_count": null,
      "metadata": {
        "id": "CLjXauQQwQbs"
      },
      "outputs": [],
      "source": [
        "# Imported Libaries\n",
        "import cv2\n",
        "from datetime import datetime\n",
        "from ultralytics.yolo.engine.model import YOLO\n",
        "\n",
        "# Import model\n",
        "model = YOLO('best.pt')\n",
        "\n",
        "# Run model and run camera\n",
        "results = model.predict(source='0', show=True, conf=0.5, save_conf = True, stream = True)\n",
        "\n",
        "# Count number of boxes deteced\n",
        "for r in results:\n",
        "    print(\"Num of detected: \",len(r))"
      ]
    }
  ],
  "metadata": {
    "colab": {
      "provenance": []
    },
    "kernelspec": {
      "display_name": "Python 3",
      "name": "python3"
    },
    "language_info": {
      "name": "python"
    }
  },
  "nbformat": 4,
  "nbformat_minor": 0
}
